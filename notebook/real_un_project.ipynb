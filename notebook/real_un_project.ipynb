{
 "cells": [
  {
   "cell_type": "code",
   "execution_count": 1,
   "id": "49fa91aa",
   "metadata": {},
   "outputs": [],
   "source": [
    "import pandas as pd   \n",
    "import numpy as np\n",
    "import matplotlib.pyplot as plt\n",
    "import seaborn as sns"
   ]
  },
  {
   "cell_type": "markdown",
   "id": "bd15b907",
   "metadata": {},
   "source": [
    "4.\tUsing the pandas `read_csv()` method, read the GDP dataset into your notebook as a DataFrame called `gdp_df`. Take a look at the first few and last few rows to familiarize yourself with what is contained in this dataset."
   ]
  },
  {
   "cell_type": "code",
   "execution_count": 2,
   "id": "090fe8c7",
   "metadata": {
    "scrolled": true
   },
   "outputs": [],
   "source": [
    "gdp_df = pd.read_csv('../data/gdp_percapita.csv')"
   ]
  },
  {
   "cell_type": "markdown",
   "id": "39eb4124",
   "metadata": {},
   "source": [
    "5. How many rows and columns are in `gdp_df`? What are the data types of each column?"
   ]
  },
  {
   "cell_type": "code",
   "execution_count": 3,
   "id": "c6f4ad45",
   "metadata": {},
   "outputs": [
    {
     "name": "stdout",
     "output_type": "stream",
     "text": [
      "<class 'pandas.core.frame.DataFrame'>\n",
      "RangeIndex: 7176 entries, 0 to 7175\n",
      "Data columns (total 4 columns):\n",
      " #   Column           Non-Null Count  Dtype  \n",
      "---  ------           --------------  -----  \n",
      " 0   Country or Area  7176 non-null   object \n",
      " 1   Year             7176 non-null   int64  \n",
      " 2   Value            7176 non-null   float64\n",
      " 3   Value Footnotes  0 non-null      float64\n",
      "dtypes: float64(2), int64(1), object(1)\n",
      "memory usage: 224.4+ KB\n"
     ]
    }
   ],
   "source": [
    "gdp_df.info()"
   ]
  },
  {
   "cell_type": "markdown",
   "id": "5a1de4b3",
   "metadata": {},
   "source": [
    "6. Drop the `Value Footnotes` column and rename the remaining three to 'Country', 'Year', and 'GDP_Per_Capita'."
   ]
  },
  {
   "cell_type": "code",
   "execution_count": 4,
   "id": "add03f97",
   "metadata": {},
   "outputs": [],
   "source": [
    "gdp_df = gdp_df.drop('Value Footnotes', axis=1)"
   ]
  },
  {
   "cell_type": "code",
   "execution_count": 5,
   "id": "89194526",
   "metadata": {},
   "outputs": [],
   "source": [
    "gdp_df = gdp_df.rename(columns={'Country or Area':'Country','Value':'GDP_Per_Capita'})"
   ]
  },
  {
   "cell_type": "code",
   "execution_count": 6,
   "id": "4b847781",
   "metadata": {},
   "outputs": [
    {
     "name": "stdout",
     "output_type": "stream",
     "text": [
      "<class 'pandas.core.frame.DataFrame'>\n",
      "RangeIndex: 7176 entries, 0 to 7175\n",
      "Data columns (total 3 columns):\n",
      " #   Column          Non-Null Count  Dtype  \n",
      "---  ------          --------------  -----  \n",
      " 0   Country         7176 non-null   object \n",
      " 1   Year            7176 non-null   int64  \n",
      " 2   GDP_Per_Capita  7176 non-null   float64\n",
      "dtypes: float64(1), int64(1), object(1)\n",
      "memory usage: 168.3+ KB\n"
     ]
    }
   ],
   "source": [
    "gdp_df.info()"
   ]
  },
  {
   "cell_type": "markdown",
   "id": "a2ead823",
   "metadata": {},
   "source": [
    "7. How many countries have data for all years? Which countries are missing many years of data? Look at the number of observations per year. What do you notice? "
   ]
  },
  {
   "cell_type": "code",
   "execution_count": 7,
   "id": "01ee5035",
   "metadata": {},
   "outputs": [
    {
     "name": "stdout",
     "output_type": "stream",
     "text": [
      "[1990 1991 1992 1993 1994 1995 1996 1997 1998 1999 2000 2001 2002 2003\n",
      " 2004 2005 2006 2007 2008 2009 2010 2011 2012 2013 2014 2015 2016 2017\n",
      " 2018 2019 2020]\n"
     ]
    }
   ],
   "source": [
    "years=np.unique(gdp_df['Year'])\n",
    "print(years)"
   ]
  },
  {
   "cell_type": "code",
   "execution_count": 8,
   "id": "42e9762e",
   "metadata": {},
   "outputs": [],
   "source": [
    "uni = np.unique(gdp_df['Country'])"
   ]
  },
  {
   "cell_type": "code",
   "execution_count": 30,
   "id": "bf064075",
   "metadata": {},
   "outputs": [
    {
     "name": "stdout",
     "output_type": "stream",
     "text": [
      "['Afghanistan' 'Africa Eastern and Southern' 'Africa Western and Central'\n",
      " 'Albania' 'Algeria' 'Angola' 'Antigua and Barbuda' 'Arab World'\n",
      " 'Argentina' 'Armenia' 'Aruba' 'Australia' 'Austria' 'Azerbaijan'\n",
      " 'Bahrain' 'Bangladesh' 'Barbados' 'Belarus' 'Belgium' 'Belize' 'Benin'\n",
      " 'Bermuda' 'Bhutan' 'Bolivia' 'Bosnia and Herzegovina' 'Botswana' 'Brazil'\n",
      " 'Brunei' 'Bulgaria' 'Burkina Faso' 'Burundi' 'Cabo Verde' 'Cambodia'\n",
      " 'Cameroon' 'Canada' 'Caribbean small states' 'Cayman Islands'\n",
      " 'Central African Republic' 'Central Europe and the Baltics' 'Chad'\n",
      " 'Chile' 'China' 'Colombia' 'Comoros' 'Congo' 'Costa Rica' 'Croatia'\n",
      " 'CuraÃ§ao' 'Cyprus' 'Czech Republic' \"CÃ´te d'Ivoire\" 'Dem. Rep. Congo'\n",
      " 'Denmark' 'Djibouti' 'Dominica' 'Dominican Republic'\n",
      " 'Early-demographic dividend' 'East Asia & Pacific'\n",
      " 'East Asia & Pacific (IDA & IBRD)'\n",
      " 'East Asia & Pacific (excluding high income)' 'Ecuador' 'Egypt'\n",
      " 'El Salvador' 'Equatorial Guinea' 'Estonia' 'Eswatini' 'Ethiopia'\n",
      " 'Euro area' 'Europe & Central Asia' 'Europe & Central Asia (IDA & IBRD)'\n",
      " 'Europe & Central Asia (excluding high income)' 'European Union' 'Fiji'\n",
      " 'Finland' 'Fragile and conflict affected situations' 'France' 'Gabon'\n",
      " 'Georgia' 'Germany' 'Ghana' 'Greece' 'Grenada' 'Guatemala' 'Guinea'\n",
      " 'Guinea-Bissau' 'Guyana' 'Haiti' 'Heavily indebted poor countries (HIPC)'\n",
      " 'High income' 'Honduras' 'Hong Kong SAR, China' 'Hungary' 'IBRD only'\n",
      " 'IDA & IBRD total' 'IDA blend' 'IDA only' 'IDA total' 'Iceland' 'India'\n",
      " 'Indonesia' 'Iran' 'Iraq' 'Ireland' 'Israel' 'Italy' 'Jamaica' 'Japan'\n",
      " 'Jordan' 'Kazakhstan' 'Kenya' 'Kiribati' 'Korea' 'Kosovo' 'Kuwait'\n",
      " 'Kyrgyz Republic' 'Lao PDR' 'Late-demographic dividend'\n",
      " 'Latin America & Caribbean' 'Latin America & Caribbean (IDA & IBRD)'\n",
      " 'Latin America & Caribbean (excluding high income)' 'Latvia'\n",
      " 'Least developed countries: UN classification' 'Lebanon' 'Lesotho'\n",
      " 'Liberia' 'Libya' 'Lithuania' 'Low & middle income' 'Low income'\n",
      " 'Lower middle income' 'Luxembourg' 'Macao SAR, China' 'Madagascar'\n",
      " 'Malawi' 'Malaysia' 'Maldives' 'Mali' 'Malta' 'Marshall Islands'\n",
      " 'Mauritania' 'Mauritius' 'Mexico' 'Micronesia'\n",
      " 'Middle East & North Africa' 'Middle East & North Africa (IDA & IBRD)'\n",
      " 'Middle East & North Africa (excluding high income)' 'Middle income'\n",
      " 'Moldova' 'Mongolia' 'Montenegro' 'Morocco' 'Mozambique' 'Myanmar'\n",
      " 'Namibia' 'Nauru' 'Nepal' 'Netherlands' 'New Zealand' 'Nicaragua' 'Niger'\n",
      " 'Nigeria' 'North America' 'North Macedonia' 'Norway' 'OECD members'\n",
      " 'Oman' 'Other small states' 'Pacific island small states' 'Pakistan'\n",
      " 'Palau' 'Panama' 'Papua New Guinea' 'Paraguay' 'Peru' 'Philippines'\n",
      " 'Poland' 'Portugal' 'Post-demographic dividend'\n",
      " 'Pre-demographic dividend' 'Puerto Rico' 'Qatar' 'Romania' 'Russia'\n",
      " 'Rwanda' 'Samoa' 'San Marino' 'Saudi Arabia' 'Senegal' 'Serbia'\n",
      " 'Seychelles' 'Sierra Leone' 'Singapore' 'Sint Maarten (Dutch part)'\n",
      " 'Slovak Republic' 'Slovenia' 'Small states' 'Solomon Islands' 'Somalia'\n",
      " 'South Africa' 'South Asia' 'South Asia (IDA & IBRD)' 'Spain' 'Sri Lanka'\n",
      " 'St. Kitts and Nevis' 'St. Lucia' 'St. Vincent and the Grenadines'\n",
      " 'Sub-Saharan Africa' 'Sub-Saharan Africa (IDA & IBRD)'\n",
      " 'Sub-Saharan Africa (excluding high income)' 'Sudan' 'Suriname' 'Sweden'\n",
      " 'Switzerland' 'SÃ£o TomÃ© and Principe' 'Tajikistan' 'Tanzania'\n",
      " 'Thailand' 'The Bahamas' 'The Gambia' 'Timor-Leste' 'Togo' 'Tonga'\n",
      " 'Trinidad and Tobago' 'Tunisia' 'Turkmenistan' 'Turks and Caicos Islands'\n",
      " 'Tuvalu' 'TÃ¼rkiye' 'Uganda' 'Ukraine' 'United Arab Emirates'\n",
      " 'United Kingdom' 'United States' 'Upper middle income' 'Uruguay'\n",
      " 'Uzbekistan' 'Vanuatu' 'Vietnam' 'West Bank and Gaza' 'World' 'Zambia'\n",
      " 'Zimbabwe']\n"
     ]
    }
   ],
   "source": [
    "print(uni)"
   ]
  },
  {
   "cell_type": "code",
   "execution_count": 32,
   "id": "cb8ee051",
   "metadata": {},
   "outputs": [
    {
     "name": "stdout",
     "output_type": "stream",
     "text": [
      "      Afghanistan  2020  1970.56016925338  2019  2065.03623501599  2018  \\\n",
      "0             1.0   1.0               1.0   0.0               0.0   0.0   \n",
      "1             1.0   0.0               0.0   1.0               1.0   0.0   \n",
      "2             1.0   0.0               0.0   0.0               0.0   1.0   \n",
      "3             1.0   0.0               0.0   0.0               0.0   0.0   \n",
      "4             1.0   0.0               0.0   0.0               0.0   0.0   \n",
      "...           ...   ...               ...   ...               ...   ...   \n",
      "7171          0.0   0.0               0.0   0.0               0.0   0.0   \n",
      "7172          0.0   0.0               0.0   0.0               0.0   0.0   \n",
      "7173          0.0   0.0               0.0   0.0               0.0   0.0   \n",
      "7174          0.0   0.0               0.0   0.0               0.0   0.0   \n",
      "7175          0.0   0.0               0.0   0.0               0.0   0.0   \n",
      "\n",
      "      2033.80438893717  2017  2058.4002210698  2016  ...  2872.71479538555  \\\n",
      "0                  0.0   0.0              0.0   0.0  ...               0.0   \n",
      "1                  0.0   0.0              0.0   0.0  ...               0.0   \n",
      "2                  1.0   0.0              0.0   0.0  ...               0.0   \n",
      "3                  0.0   1.0              1.0   0.0  ...               0.0   \n",
      "4                  0.0   0.0              0.0   1.0  ...               0.0   \n",
      "...                ...   ...              ...   ...  ...               ...   \n",
      "7171               0.0   0.0              0.0   0.0  ...               0.0   \n",
      "7172               0.0   0.0              0.0   0.0  ...               0.0   \n",
      "7173               0.0   0.0              0.0   0.0  ...               0.0   \n",
      "7174               0.0   0.0              0.0   0.0  ...               0.0   \n",
      "7175               0.0   0.0              0.0   0.0  ...               0.0   \n",
      "\n",
      "      2915.0529921353  2856.11818831048  2808.55855574406  2573.99378524017  \\\n",
      "0                 0.0               0.0               0.0               0.0   \n",
      "1                 0.0               0.0               0.0               0.0   \n",
      "2                 0.0               0.0               0.0               0.0   \n",
      "3                 0.0               0.0               0.0               0.0   \n",
      "4                 0.0               0.0               0.0               0.0   \n",
      "...               ...               ...               ...               ...   \n",
      "7171              0.0               0.0               0.0               0.0   \n",
      "7172              0.0               0.0               0.0               0.0   \n",
      "7173              0.0               0.0               0.0               0.0   \n",
      "7174              0.0               0.0               0.0               0.0   \n",
      "7175              0.0               0.0               0.0               0.0   \n",
      "\n",
      "      2603.92736918289  2420.09279096334  2437.15290786041  2733.69662595306  \\\n",
      "0                  0.0               0.0               0.0               0.0   \n",
      "1                  0.0               0.0               0.0               0.0   \n",
      "2                  0.0               0.0               0.0               0.0   \n",
      "3                  0.0               0.0               0.0               0.0   \n",
      "4                  0.0               0.0               0.0               0.0   \n",
      "...                ...               ...               ...               ...   \n",
      "7171               1.0               0.0               0.0               0.0   \n",
      "7172               0.0               1.0               0.0               0.0   \n",
      "7173               0.0               0.0               1.0               0.0   \n",
      "7174               0.0               0.0               0.0               1.0   \n",
      "7175               0.0               0.0               0.0               0.0   \n",
      "\n",
      "      2652.12920928101  \n",
      "0                  0.0  \n",
      "1                  0.0  \n",
      "2                  0.0  \n",
      "3                  0.0  \n",
      "4                  0.0  \n",
      "...                ...  \n",
      "7171               0.0  \n",
      "7172               0.0  \n",
      "7173               0.0  \n",
      "7174               0.0  \n",
      "7175               1.0  \n",
      "\n",
      "[7176 rows x 7393 columns]\n"
     ]
    }
   ],
   "source": [
    "counts_test = gdp_df.apply(pd.Series.value_counts, axis=1).fillna(0)\n",
    "print(counts_test)"
   ]
  },
  {
   "cell_type": "code",
   "execution_count": null,
   "id": "7f85ad47",
   "metadata": {},
   "outputs": [],
   "source": []
  }
 ],
 "metadata": {
  "kernelspec": {
   "display_name": "Python 3 (ipykernel)",
   "language": "python",
   "name": "python3"
  },
  "language_info": {
   "codemirror_mode": {
    "name": "ipython",
    "version": 3
   },
   "file_extension": ".py",
   "mimetype": "text/x-python",
   "name": "python",
   "nbconvert_exporter": "python",
   "pygments_lexer": "ipython3",
   "version": "3.9.13"
  }
 },
 "nbformat": 4,
 "nbformat_minor": 5
}
